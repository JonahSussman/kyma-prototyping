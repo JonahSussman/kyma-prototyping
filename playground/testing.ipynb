{
 "cells": [
  {
   "cell_type": "code",
   "execution_count": 1,
   "metadata": {},
   "outputs": [],
   "source": [
    "template = \"\"\"\n",
    "Task Instructions: Your task is to ...\n",
    "\n",
    "Earlier Code Changes (Temporal Context): These are edits that have been made in the code-base previously -\n",
    "\n",
    "Edit 1:\n",
    "\n",
    "```\n",
    "diff --git a/Complex.java b/Complex.java\n",
    "index 8e6271b..b11c2d6 100644\n",
    "--- a/Complex.java\n",
    "+++ b/Complex.java\n",
    "@@ -1,28 +1,53 @@\n",
    " package git_tests;\n",
    " \n",
    " public class Complex {\n",
    "+    // Fields for the real and imaginary parts\n",
    "+    private double real;\n",
    "+    private double imag;\n",
    "+\n",
    "+    // Constructor\n",
    "+    public Complex(double real, double imag) {\n",
    "+        this.real = real;\n",
    "+        this.imag = imag;\n",
    "+    }\n",
    "+\n",
    "+    // Getter methods\n",
    "+    public double getReal() {\n",
    "+        return real;\n",
    "+    }\n",
    "+\n",
    "+    public double getImag() {\n",
    "+        return imag;\n",
    "+    }\n",
    "+\n",
    "     // Method to add two complex numbers\n",
    "-    public static double[] add(double[] a, double[] b) {\n",
    "-        return new double[]{a[0] + b[0], a[1] + b[1]};\n",
    "+    public static Complex add(Complex a, Complex b) {\n",
    "+        return new Complex(a.real + b.real, a.imag + b.imag);\n",
    "     }\n",
    " \n",
    "     // Method to subtract two complex numbers\n",
    "-    public static double[] sub(double[] a, double[] b) {\n",
    "-        return new double[]{a[0] - b[0], a[1] - b[1]};\n",
    "+    public static Complex sub(Complex a, Complex b) {\n",
    "+        return new Complex(a.real - b.real, a.imag - b.imag);\n",
    "     }\n",
    " \n",
    "     // Method to multiply two complex numbers\n",
    "-    public static double[] mul(double[] a, double[] b) {\n",
    "-        double real = a[0] * b[0] - a[1] * b[1];\n",
    "-        double imag = a[0] * b[1] + a[1] * b[0];\n",
    "-        return new double[]{real, imag};\n",
    "+    public static Complex mul(Complex a, Complex b) {\n",
    "+        double real = a.real * b.real - a.imag * b.imag;\n",
    "+        double imag = a.real * b.imag + a.imag * b.real;\n",
    "+        return new Complex(real, imag);\n",
    "     }\n",
    " \n",
    "     // Method to divide two complex numbers\n",
    "-    public static double[] div(double[] a, double[] b) {\n",
    "-        double divisor = b[0] * b[0] + b[1] * b[1];\n",
    "-        double real = (a[0] * b[0] + a[1] * b[1]) / divisor;\n",
    "-        double imag = (a[1] * b[0] - a[0] * b[1]) / divisor;\n",
    "-        return new double[]{real, imag};\n",
    "+    public static Complex div(Complex a, Complex b) {\n",
    "+        double divisor = b.real * b.real + b.imag * b.imag;\n",
    "+        double real = (a.real * b.real + a.imag * b.imag) / divisor;\n",
    "+        double imag = (a.imag * b.real - a.real * b.imag) / divisor;\n",
    "+        return new Complex(real, imag);\n",
    "+    }\n",
    "+\n",
    "+    // Method to represent the complex number as a string\n",
    "+    @Override\n",
    "+    public String toString() {\n",
    "+        return \"(\" + real + \" + \" + imag + \"i)\";\n",
    "     }\n",
    " }\n",
    "```\n",
    "\n",
    "Causes for Change: Updated Complex type to real java type.\n",
    "\n",
    "Related Code (Spatial Context): The following code maybe related:\n",
    "\n",
    "```\n",
    "// Main.java\n",
    "package git_tests;\n",
    "\n",
    "public class Main {\n",
    "  public static void PrintTheAddition(double[] x, double[] y) {\n",
    "    // ...\n",
    "  } \n",
    "\n",
    "  public static void main(String[] args) {\n",
    "    // ...\n",
    "  }\n",
    "}\n",
    "```\n",
    "\n",
    "Code to be Changed Next: The existing code is given below -\n",
    "\n",
    "```\n",
    "  public static void PrintTheAddition(double[] x, double[] y) {\n",
    "    double[] z = Complex.add(x, y);\n",
    "    System.out.println(\"(\" + z[0] + \", \" + z[1] + \"i)\");\n",
    "  } \n",
    "```\n",
    "\n",
    "Edit the \"Code to be Changed Next\" and produce \"Changed Code\" below. Edit the \"Code to be Changed Next\" according to the \"Task Instructions\" to make it consistent with the \"Earlier Code Changes\", \"Causes for Change\" and \"Related Code\". If no changes are needed, output \"No changes.\n",
    "\"\"\""
   ]
  },
  {
   "cell_type": "code",
   "execution_count": 2,
   "metadata": {},
   "outputs": [
    {
     "ename": "NameError",
     "evalue": "name 'prompt' is not defined",
     "output_type": "error",
     "traceback": [
      "\u001b[0;31m---------------------------------------------------------------------------\u001b[0m",
      "\u001b[0;31mNameError\u001b[0m                                 Traceback (most recent call last)",
      "\u001b[1;32m/home/jonah/Projects/kyma-prototyping/playground/testing.ipynb Cell 2\u001b[0m line \u001b[0;36m3\n\u001b[1;32m      <a href='vscode-notebook-cell:/home/jonah/Projects/kyma-prototyping/playground/testing.ipynb#W1sZmlsZQ%3D%3D?line=0'>1</a>\u001b[0m \u001b[39mimport\u001b[39;00m \u001b[39mtiktoken\u001b[39;00m\n\u001b[1;32m      <a href='vscode-notebook-cell:/home/jonah/Projects/kyma-prototyping/playground/testing.ipynb#W1sZmlsZQ%3D%3D?line=1'>2</a>\u001b[0m enc \u001b[39m=\u001b[39m tiktoken\u001b[39m.\u001b[39mget_encoding(\u001b[39m\"\u001b[39m\u001b[39mcl100k_base\u001b[39m\u001b[39m\"\u001b[39m)\n\u001b[0;32m----> <a href='vscode-notebook-cell:/home/jonah/Projects/kyma-prototyping/playground/testing.ipynb#W1sZmlsZQ%3D%3D?line=2'>3</a>\u001b[0m \u001b[39mprint\u001b[39m(\u001b[39mf\u001b[39m\u001b[39m\"\u001b[39m\u001b[39mEstimated number of tokens in prompt: \u001b[39m\u001b[39m{\u001b[39;00m\u001b[39mlen\u001b[39m(enc\u001b[39m.\u001b[39mencode(prompt))\u001b[39m}\u001b[39;00m\u001b[39m\"\u001b[39m)\n",
      "\u001b[0;31mNameError\u001b[0m: name 'prompt' is not defined"
     ]
    }
   ],
   "source": [
    "import tiktoken\n",
    "enc = tiktoken.get_encoding(\"cl100k_base\")\n",
    "print(f\"Estimated number of tokens in prompt: {len(enc.encode(prompt))}\")"
   ]
  },
  {
   "cell_type": "code",
   "execution_count": null,
   "metadata": {},
   "outputs": [],
   "source": [
    "from langchain.chat_models import ChatOpenAI \n",
    "from langchain.prompts import ChatPromptTemplate, SystemMessagePromptTemplate, HumanMessagePromptTemplate\n",
    "from langchain.schema.output_parser import StrOutputParser\n",
    "from langchain.schema import HumanMessage\n",
    "# from langchain_experimental.utilities.python import PythonREPL\n",
    "\n",
    "def _sanitize_output(text: str):\n",
    "  return text\n",
    "\n",
    "# prompt = ChatPromptTemplate.from_template(template, input_variables=[])\n",
    "model = ChatOpenAI(temperature=0.1, model_name=\"gpt-3.5-turbo-16k\")\n",
    "messages = [HumanMessage(content=template)]\n",
    "\n",
    "# chain = prompt | model | StrOutputParser() | _sanitize_output \n"
   ]
  },
  {
   "cell_type": "code",
   "execution_count": null,
   "metadata": {},
   "outputs": [
    {
     "name": "stdout",
     "output_type": "stream",
     "text": [
      "content='Changed Code:\\n\\n```java\\n  public static void PrintTheAddition(Complex x, Complex y) {\\n    Complex z = Complex.add(x, y);\\n    System.out.println(z.toString());\\n  } \\n```\\n\\nExplanation: \\n\\nIn the earlier code changes, the Complex class was updated to use the Complex type instead of double arrays for representing complex numbers. Therefore, in the \"Code to be Changed Next\", the parameters of the PrintTheAddition method should be changed from double arrays to Complex objects. The Complex.add method should be used to perform the addition of complex numbers. The result should be printed using the toString method of the Complex class.'\n"
     ]
    }
   ],
   "source": [
    "output = model.invoke(messages)\n",
    "print(output)"
   ]
  },
  {
   "cell_type": "code",
   "execution_count": null,
   "metadata": {},
   "outputs": [
    {
     "name": "stdout",
     "output_type": "stream",
     "text": [
      "Changed Code:\n",
      "\n",
      "```java\n",
      "  public static void PrintTheAddition(Complex x, Complex y) {\n",
      "    Complex z = Complex.add(x, y);\n",
      "    System.out.println(z.toString());\n",
      "  } \n",
      "```\n",
      "\n",
      "Explanation: \n",
      "\n",
      "In the earlier code changes, the Complex class was updated to use the Complex type instead of double arrays for representing complex numbers. Therefore, in the \"Code to be Changed Next\", the parameters of the PrintTheAddition method should be changed from double arrays to Complex objects. The Complex.add method should be used to perform the addition of complex numbers. The result should be printed using the toString method of the Complex class.\n"
     ]
    }
   ],
   "source": [
    "print(output.content)"
   ]
  }
 ],
 "metadata": {
  "kernelspec": {
   "display_name": ".venv",
   "language": "python",
   "name": "python3"
  },
  "language_info": {
   "codemirror_mode": {
    "name": "ipython",
    "version": 3
   },
   "file_extension": ".py",
   "mimetype": "text/x-python",
   "name": "python",
   "nbconvert_exporter": "python",
   "pygments_lexer": "ipython3",
   "version": "3.11.5"
  }
 },
 "nbformat": 4,
 "nbformat_minor": 2
}
