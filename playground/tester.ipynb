{
 "cells": [
  {
   "cell_type": "code",
   "execution_count": 1,
   "metadata": {},
   "outputs": [
    {
     "name": "stdout",
     "output_type": "stream",
     "text": [
      "['/home/jonah/Projects/kyma-prototyping/examples/complex-numbers/src/main/java/net/jsussman/complexnumber/ComplexNumber.java', '/home/jonah/Projects/kyma-prototyping/examples/complex-numbers/src/main/java/net/jsussman/complexnumber/ComplexNumber2.notjava', '/home/jonah/Projects/kyma-prototyping/examples/complex-numbers/src/main/java/net/jsussman/dummyapp/App.java', '/home/jonah/Projects/kyma-prototyping/examples/complex-numbers/src/main/java/net/jsussman/inheritance/Bicycle.java', '/home/jonah/Projects/kyma-prototyping/examples/complex-numbers/src/main/java/net/jsussman/inheritance/MountainBike.java', '/home/jonah/Projects/kyma-prototyping/examples/complex-numbers/src/test/java/net/jsussman/complex/AppTest.java']\n"
     ]
    }
   ],
   "source": [
    "from util import *\n",
    "import os\n",
    "\n",
    "JAVA_LANGUAGE = tree_sitter_build_language(\"build/language-java.so\", [\"../tree-sitter-java/\"], \"java\")\n",
    "\n",
    "source_files = []\n",
    "for (dirpath, dirnames, filenames) in os.walk('/home/jonah/Projects/kyma-prototyping/examples/complex-numbers/src'):\n",
    "  source_files.extend([os.path.join(dirpath, f) for f in filenames])\n",
    "\n",
    "print(source_files)"
   ]
  },
  {
   "cell_type": "code",
   "execution_count": 2,
   "metadata": {},
   "outputs": [
    {
     "name": "stdout",
     "output_type": "stream",
     "text": [
      "(program (package_declaration (scoped_identifier scope: (scoped_identifier scope: (identifier) name: (identifier)) name: (identifier))) (import_declaration (scoped_identifier scope: (scoped_identifier scope: (scoped_identifier scope: (identifier) name: (identifier)) name: (identifier)) name: (identifier))) (block_comment) (class_declaration (modifiers) name: (identifier) body: (class_body (line_comment) (field_declaration (modifiers) type: (floating_point_type) declarator: (variable_declarator name: (identifier))) (field_declaration (modifiers) type: (floating_point_type) declarator: (variable_declarator name: (identifier))) (line_comment) (constructor_declaration (modifiers) name: (identifier) parameters: (formal_parameters (formal_parameter type: (floating_point_type) name: (identifier)) (formal_parameter type: (floating_point_type) name: (identifier))) body: (constructor_body (expression_statement (assignment_expression left: (field_access object: (this) field: (identifier)) right: (identifier))) (expression_statement (assignment_expression left: (field_access object: (this) field: (identifier)) right: (identifier))))) (line_comment) (method_declaration (modifiers) type: (floating_point_type) name: (identifier) parameters: (formal_parameters) body: (block (line_comment) (return_statement (identifier)))) (method_declaration (modifiers) type: (floating_point_type) name: (identifier) parameters: (formal_parameters) body: (block (return_statement (identifier)))) (line_comment) (method_declaration (modifiers) type: (type_identifier) name: (identifier) parameters: (formal_parameters (formal_parameter type: (type_identifier) name: (identifier)) (formal_parameter type: (type_identifier) name: (identifier))) body: (block (return_statement (object_creation_expression type: (type_identifier) arguments: (argument_list (binary_expression left: (field_access object: (identifier) field: (identifier)) right: (field_access object: (identifier) field: (identifier))) (binary_expression left: (field_access object: (identifier) field: (identifier)) right: (field_access object: (identifier) field: (identifier)))))))) (line_comment) (method_declaration (modifiers) type: (type_identifier) name: (identifier) parameters: (formal_parameters (formal_parameter type: (type_identifier) name: (identifier)) (formal_parameter type: (type_identifier) name: (identifier))) body: (block (return_statement (object_creation_expression type: (type_identifier) arguments: (argument_list (binary_expression left: (field_access object: (identifier) field: (identifier)) right: (field_access object: (identifier) field: (identifier))) (binary_expression left: (field_access object: (identifier) field: (identifier)) right: (field_access object: (identifier) field: (identifier)))))))) (line_comment) (method_declaration (modifiers) type: (type_identifier) name: (identifier) parameters: (formal_parameters (formal_parameter type: (type_identifier) name: (identifier)) (formal_parameter type: (type_identifier) name: (identifier))) body: (block (local_variable_declaration type: (floating_point_type) declarator: (variable_declarator name: (identifier) value: (binary_expression left: (binary_expression left: (field_access object: (identifier) field: (identifier)) right: (field_access object: (identifier) field: (identifier))) right: (binary_expression left: (field_access object: (identifier) field: (identifier)) right: (field_access object: (identifier) field: (identifier)))))) (local_variable_declaration type: (floating_point_type) declarator: (variable_declarator name: (identifier) value: (binary_expression left: (binary_expression left: (field_access object: (identifier) field: (identifier)) right: (field_access object: (identifier) field: (identifier))) right: (binary_expression left: (field_access object: (identifier) field: (identifier)) right: (field_access object: (identifier) field: (identifier)))))) (return_statement (object_creation_expression type: (type_identifier) arguments: (argument_list (identifier) (identifier)))))) (line_comment) (method_declaration (modifiers) type: (type_identifier) name: (identifier) parameters: (formal_parameters (formal_parameter type: (type_identifier) name: (identifier)) (formal_parameter type: (type_identifier) name: (identifier))) body: (block (local_variable_declaration type: (floating_point_type) declarator: (variable_declarator name: (identifier) value: (binary_expression left: (binary_expression left: (field_access object: (identifier) field: (identifier)) right: (field_access object: (identifier) field: (identifier))) right: (binary_expression left: (field_access object: (identifier) field: (identifier)) right: (field_access object: (identifier) field: (identifier)))))) (local_variable_declaration type: (floating_point_type) declarator: (variable_declarator name: (identifier) value: (binary_expression left: (parenthesized_expression (binary_expression left: (binary_expression left: (field_access object: (identifier) field: (identifier)) right: (field_access object: (identifier) field: (identifier))) right: (binary_expression left: (field_access object: (identifier) field: (identifier)) right: (field_access object: (identifier) field: (identifier))))) right: (identifier)))) (local_variable_declaration type: (floating_point_type) declarator: (variable_declarator name: (identifier) value: (binary_expression left: (parenthesized_expression (binary_expression left: (binary_expression left: (field_access object: (identifier) field: (identifier)) right: (field_access object: (identifier) field: (identifier))) right: (binary_expression left: (field_access object: (identifier) field: (identifier)) right: (field_access object: (identifier) field: (identifier))))) right: (identifier)))) (return_statement (object_creation_expression type: (type_identifier) arguments: (argument_list (identifier) (identifier)))))) (line_comment) (method_declaration (modifiers (marker_annotation name: (identifier))) type: (type_identifier) name: (identifier) parameters: (formal_parameters) body: (block (return_statement (binary_expression left: (binary_expression left: (binary_expression left: (binary_expression left: (string_literal) right: (identifier)) right: (string_literal (string_fragment))) right: (identifier)) right: (string_literal (string_fragment)))))))))\n"
     ]
    }
   ],
   "source": [
    "with open('/home/jonah/Projects/kyma-prototyping/examples/complex-numbers/src/main/java/net/jsussman/complexnumber/ComplexNumber.java') as f:\n",
    "  code = f.read()\n",
    "\n",
    "parser = Parser()\n",
    "parser.set_language(JAVA_LANGUAGE)\n",
    "\n",
    "tree = parser.parse(bytes(code, 'utf8'))\n",
    "\n",
    "print(tree.root_node.sexp())"
   ]
  },
  {
   "cell_type": "code",
   "execution_count": 3,
   "metadata": {},
   "outputs": [
    {
     "name": "stdout",
     "output_type": "stream",
     "text": [
      "(program (package_declaration (scoped_identifier scope: (scoped_identifier scope: (identifier) name: (identifier)) name: (identifier))) (import_declaration (scoped_identifier scope: (scoped_identifier scope: (scoped_identifier scope: (identifier) name: (identifier)) name: (identifier)) name: (identifier))) (block_comment) (class_declaration (modifiers) name: (identifier) body: (class_body (line_comment) (field_declaration (modifiers) type: (floating_point_type) declarator: (variable_declarator name: (identifier))) (field_declaration (modifiers) type: (floating_point_type) declarator: (variable_declarator name: (identifier))) (line_comment) (constructor_declaration (modifiers) name: (identifier) parameters: (formal_parameters (formal_parameter type: (floating_point_type) name: (identifier)) (formal_parameter type: (floating_point_type) name: (identifier))) body: (constructor_body (expression_statement (assignment_expression left: (field_access object: (this) field: (identifier)) right: (identifier))) (expression_statement (assignment_expression left: (field_access object: (this) field: (identifier)) right: (identifier))))) (line_comment) (method_declaration (modifiers) type: (floating_point_type) name: (identifier) parameters: (formal_parameters) body: (block (line_comment) (return_statement (identifier)))) (method_declaration (modifiers) type: (floating_point_type) name: (identifier) parameters: (formal_parameters) body: (block (return_statement (identifier)))) (line_comment) (method_declaration (modifiers) type: (type_identifier) name: (identifier) parameters: (formal_parameters (formal_parameter type: (type_identifier) name: (identifier)) (formal_parameter type: (type_identifier) name: (identifier))) body: (block (return_statement (object_creation_expression type: (type_identifier) arguments: (argument_list (binary_expression left: (field_access object: (identifier) field: (identifier)) right: (field_access object: (identifier) field: (identifier))) (binary_expression left: (field_access object: (identifier) field: (identifier)) right: (field_access object: (identifier) field: (identifier)))))))) (line_comment) (method_declaration (modifiers) type: (type_identifier) name: (identifier) parameters: (formal_parameters (formal_parameter type: (type_identifier) name: (identifier)) (formal_parameter type: (type_identifier) name: (identifier))) body: (block (return_statement (object_creation_expression type: (type_identifier) arguments: (argument_list (binary_expression left: (field_access object: (identifier) field: (identifier)) right: (field_access object: (identifier) field: (identifier))) (binary_expression left: (field_access object: (identifier) field: (identifier)) right: (field_access object: (identifier) field: (identifier)))))))) (line_comment) (method_declaration (modifiers) type: (type_identifier) name: (identifier) parameters: (formal_parameters (formal_parameter type: (type_identifier) name: (identifier)) (formal_parameter type: (type_identifier) name: (identifier))) body: (block (local_variable_declaration type: (floating_point_type) declarator: (variable_declarator name: (identifier) value: (binary_expression left: (binary_expression left: (field_access object: (identifier) field: (identifier)) right: (field_access object: (identifier) field: (identifier))) right: (binary_expression left: (field_access object: (identifier) field: (identifier)) right: (field_access object: (identifier) field: (identifier)))))) (local_variable_declaration type: (floating_point_type) declarator: (variable_declarator name: (identifier) value: (binary_expression left: (binary_expression left: (field_access object: (identifier) field: (identifier)) right: (field_access object: (identifier) field: (identifier))) right: (binary_expression left: (field_access object: (identifier) field: (identifier)) right: (field_access object: (identifier) field: (identifier)))))) (return_statement (object_creation_expression type: (type_identifier) arguments: (argument_list (identifier) (identifier)))))) (line_comment) (method_declaration (modifiers) type: (type_identifier) name: (identifier) parameters: (formal_parameters (formal_parameter type: (type_identifier) name: (identifier)) (formal_parameter type: (type_identifier) name: (identifier))) body: (block (local_variable_declaration type: (floating_point_type) declarator: (variable_declarator name: (identifier) value: (binary_expression left: (binary_expression left: (field_access object: (identifier) field: (identifier)) right: (field_access object: (identifier) field: (identifier))) right: (binary_expression left: (field_access object: (identifier) field: (identifier)) right: (field_access object: (identifier) field: (identifier)))))) (local_variable_declaration type: (floating_point_type) declarator: (variable_declarator name: (identifier) value: (binary_expression left: (parenthesized_expression (binary_expression left: (binary_expression left: (field_access object: (identifier) field: (identifier)) right: (field_access object: (identifier) field: (identifier))) right: (binary_expression left: (field_access object: (identifier) field: (identifier)) right: (field_access object: (identifier) field: (identifier))))) right: (identifier)))) (local_variable_declaration type: (floating_point_type) declarator: (variable_declarator name: (identifier) value: (binary_expression left: (parenthesized_expression (binary_expression left: (binary_expression left: (field_access object: (identifier) field: (identifier)) right: (field_access object: (identifier) field: (identifier))) right: (binary_expression left: (field_access object: (identifier) field: (identifier)) right: (field_access object: (identifier) field: (identifier))))) right: (identifier)))) (return_statement (object_creation_expression type: (type_identifier) arguments: (argument_list (identifier) (identifier)))))) (line_comment) (method_declaration (modifiers (marker_annotation name: (identifier))) type: (type_identifier) name: (identifier) parameters: (formal_parameters) body: (block (return_statement (binary_expression left: (binary_expression left: (binary_expression left: (binary_expression left: (string_literal) right: (identifier)) right: (string_literal (string_fragment))) right: (identifier)) right: (string_literal (string_fragment)))))))))\n",
      "<Node type=package_declaration, start_point=(0, 0), end_point=(0, 35)>\n",
      "<Node type=scoped_identifier, start_point=(0, 8), end_point=(0, 34)>\n",
      "net.jsussman.complexnumber\n",
      "\n",
      "(program (package_declaration (scoped_identifier scope: (scoped_identifier scope: (identifier) name: (identifier)) name: (identifier))) (class_declaration (modifiers) name: (identifier) body: (class_body (line_comment) (field_declaration (modifiers) type: (floating_point_type) declarator: (variable_declarator name: (identifier))) (field_declaration (modifiers) type: (floating_point_type) declarator: (variable_declarator name: (identifier))) (line_comment) (constructor_declaration (modifiers) name: (identifier) parameters: (formal_parameters (formal_parameter type: (floating_point_type) name: (identifier)) (formal_parameter type: (floating_point_type) name: (identifier))) body: (constructor_body (for_statement init: (local_variable_declaration type: (integral_type) declarator: (variable_declarator name: (identifier) value: (decimal_integer_literal))) condition: (binary_expression left: (identifier) right: (decimal_integer_literal)) update: (update_expression (identifier)) body: (block (expression_statement (method_invocation object: (field_access object: (identifier) field: (identifier)) name: (identifier) arguments: (argument_list (string_literal (string_fragment))))))) (expression_statement (assignment_expression left: (field_access object: (this) field: (identifier)) right: (identifier))) (expression_statement (assignment_expression left: (field_access object: (this) field: (identifier)) right: (identifier))))) (line_comment) (method_declaration (modifiers) type: (floating_point_type) name: (identifier) parameters: (formal_parameters) body: (block (line_comment) (return_statement (identifier)))) (method_declaration (modifiers) type: (floating_point_type) name: (identifier) parameters: (formal_parameters) body: (block (return_statement (identifier)))) (line_comment) (method_declaration (modifiers) type: (type_identifier) name: (identifier) parameters: (formal_parameters (formal_parameter type: (type_identifier) name: (identifier)) (formal_parameter type: (type_identifier) name: (identifier))) body: (block (return_statement (object_creation_expression type: (type_identifier) arguments: (argument_list (binary_expression left: (field_access object: (identifier) field: (identifier)) right: (field_access object: (identifier) field: (identifier))) (binary_expression left: (field_access object: (identifier) field: (identifier)) right: (field_access object: (identifier) field: (identifier)))))))) (line_comment) (method_declaration (modifiers) type: (type_identifier) name: (identifier) parameters: (formal_parameters (formal_parameter type: (type_identifier) name: (identifier)) (formal_parameter type: (type_identifier) name: (identifier))) body: (block (return_statement (object_creation_expression type: (type_identifier) arguments: (argument_list (binary_expression left: (field_access object: (identifier) field: (identifier)) right: (field_access object: (identifier) field: (identifier))) (binary_expression left: (field_access object: (identifier) field: (identifier)) right: (field_access object: (identifier) field: (identifier)))))))) (line_comment) (method_declaration (modifiers) type: (type_identifier) name: (identifier) parameters: (formal_parameters (formal_parameter type: (type_identifier) name: (identifier)) (formal_parameter type: (type_identifier) name: (identifier))) body: (block (local_variable_declaration type: (floating_point_type) declarator: (variable_declarator name: (identifier) value: (binary_expression left: (binary_expression left: (field_access object: (identifier) field: (identifier)) right: (field_access object: (identifier) field: (identifier))) right: (binary_expression left: (field_access object: (identifier) field: (identifier)) right: (field_access object: (identifier) field: (identifier)))))) (local_variable_declaration type: (floating_point_type) declarator: (variable_declarator name: (identifier) value: (binary_expression left: (binary_expression left: (field_access object: (identifier) field: (identifier)) right: (field_access object: (identifier) field: (identifier))) right: (binary_expression left: (field_access object: (identifier) field: (identifier)) right: (field_access object: (identifier) field: (identifier)))))) (return_statement (object_creation_expression type: (type_identifier) arguments: (argument_list (identifier) (identifier)))))) (line_comment) (method_declaration (modifiers) type: (type_identifier) name: (identifier) parameters: (formal_parameters (formal_parameter type: (type_identifier) name: (identifier)) (formal_parameter type: (type_identifier) name: (identifier))) body: (block (local_variable_declaration type: (floating_point_type) declarator: (variable_declarator name: (identifier) value: (binary_expression left: (binary_expression left: (field_access object: (identifier) field: (identifier)) right: (field_access object: (identifier) field: (identifier))) right: (binary_expression left: (field_access object: (identifier) field: (identifier)) right: (field_access object: (identifier) field: (identifier)))))) (local_variable_declaration type: (floating_point_type) declarator: (variable_declarator name: (identifier) value: (binary_expression left: (parenthesized_expression (binary_expression left: (binary_expression left: (field_access object: (identifier) field: (identifier)) right: (field_access object: (identifier) field: (identifier))) right: (binary_expression left: (field_access object: (identifier) field: (identifier)) right: (field_access object: (identifier) field: (identifier))))) right: (identifier)))) (local_variable_declaration type: (floating_point_type) declarator: (variable_declarator name: (identifier) value: (binary_expression left: (parenthesized_expression (binary_expression left: (binary_expression left: (field_access object: (identifier) field: (identifier)) right: (field_access object: (identifier) field: (identifier))) right: (binary_expression left: (field_access object: (identifier) field: (identifier)) right: (field_access object: (identifier) field: (identifier))))) right: (identifier)))) (return_statement (object_creation_expression type: (type_identifier) arguments: (argument_list (identifier) (identifier)))))) (line_comment) (method_declaration (modifiers (marker_annotation name: (identifier))) type: (type_identifier) name: (identifier) parameters: (formal_parameters) body: (block (return_statement (binary_expression left: (binary_expression left: (binary_expression left: (binary_expression left: (string_literal) right: (identifier)) right: (string_literal (string_fragment))) right: (identifier)) right: (string_literal (string_fragment)))))))))\n",
      "<Node type=package_declaration, start_point=(0, 0), end_point=(0, 35)>\n",
      "<Node type=scoped_identifier, start_point=(0, 8), end_point=(0, 34)>\n",
      "net.jsussman.complexnumber\n",
      "\n",
      "(program (package_declaration (scoped_identifier scope: (scoped_identifier scope: (identifier) name: (identifier)) name: (identifier))) (import_declaration (scoped_identifier scope: (scoped_identifier scope: (scoped_identifier scope: (identifier) name: (identifier)) name: (identifier)) name: (identifier))) (line_comment) (class_declaration (modifiers) name: (identifier) body: (class_body (method_declaration (modifiers) type: (void_type) name: (identifier) parameters: (formal_parameters (formal_parameter type: (array_type element: (type_identifier) dimensions: (dimensions)) name: (identifier))) body: (block (local_variable_declaration type: (type_identifier) declarator: (variable_declarator name: (identifier) value: (object_creation_expression type: (type_identifier) arguments: (argument_list (decimal_integer_literal) (decimal_integer_literal))))) (local_variable_declaration type: (floating_point_type) declarator: (variable_declarator name: (identifier) value: (method_invocation object: (identifier) name: (identifier) arguments: (argument_list)))))))))\n",
      "<Node type=package_declaration, start_point=(0, 0), end_point=(0, 30)>\n",
      "<Node type=scoped_identifier, start_point=(0, 8), end_point=(0, 29)>\n",
      "net.jsussman.dummyapp\n",
      "\n",
      "(program (package_declaration (scoped_identifier scope: (scoped_identifier scope: (identifier) name: (identifier)) name: (identifier))) (class_declaration (modifiers) name: (identifier) body: (class_body (line_comment) (field_declaration (modifiers) type: (integral_type) declarator: (variable_declarator name: (identifier))) (field_declaration (modifiers) type: (integral_type) declarator: (variable_declarator name: (identifier))) (line_comment) (constructor_declaration (modifiers) name: (identifier) parameters: (formal_parameters (formal_parameter type: (integral_type) name: (identifier)) (formal_parameter type: (integral_type) name: (identifier))) body: (constructor_body (expression_statement (assignment_expression left: (field_access object: (this) field: (identifier)) right: (identifier))) (expression_statement (assignment_expression left: (field_access object: (this) field: (identifier)) right: (identifier))))) (line_comment) (method_declaration (modifiers) type: (void_type) name: (identifier) parameters: (formal_parameters (formal_parameter type: (integral_type) name: (identifier))) body: (block (expression_statement (assignment_expression left: (identifier) right: (identifier))))) (method_declaration (modifiers) type: (void_type) name: (identifier) parameters: (formal_parameters (formal_parameter type: (integral_type) name: (identifier))) body: (block (expression_statement (assignment_expression left: (identifier) right: (identifier))))) (method_declaration (modifiers) type: (void_type) name: (identifier) parameters: (formal_parameters) body: (block (expression_statement (method_invocation name: (identifier) arguments: (argument_list (decimal_integer_literal)))))) (line_comment) (method_declaration (modifiers) type: (type_identifier) name: (identifier) parameters: (formal_parameters) body: (block (return_statement (parenthesized_expression (binary_expression left: (binary_expression left: (binary_expression left: (binary_expression left: (string_literal (string_fragment)) right: (identifier)) right: (string_literal (escape_sequence))) right: (string_literal (string_fragment))) right: (identifier)))))))))\n",
      "<Node type=package_declaration, start_point=(0, 0), end_point=(0, 33)>\n",
      "<Node type=scoped_identifier, start_point=(0, 8), end_point=(0, 32)>\n",
      "net.jsussman.inheritance\n",
      "\n",
      "(program (package_declaration (scoped_identifier scope: (scoped_identifier scope: (identifier) name: (identifier)) name: (identifier))) (class_declaration name: (identifier) superclass: (superclass (type_identifier)) body: (class_body (line_comment) (field_declaration (modifiers) type: (integral_type) declarator: (variable_declarator name: (identifier))) (line_comment) (constructor_declaration (modifiers) name: (identifier) parameters: (formal_parameters (formal_parameter type: (integral_type) name: (identifier)) (formal_parameter type: (integral_type) name: (identifier)) (formal_parameter type: (integral_type) name: (identifier))) body: (constructor_body (line_comment) (explicit_constructor_invocation constructor: (super) arguments: (argument_list (identifier) (identifier))) (expression_statement (assignment_expression left: (identifier) right: (identifier))))) (line_comment) (method_declaration (modifiers) type: (void_type) name: (identifier) parameters: (formal_parameters (formal_parameter type: (integral_type) name: (identifier))) body: (block (expression_statement (assignment_expression left: (identifier) right: (identifier))))) (method_declaration (modifiers) type: (void_type) name: (identifier) parameters: (formal_parameters (formal_parameter type: (integral_type) name: (identifier))) body: (block (expression_statement (assignment_expression left: (identifier) right: (identifier))))) (line_comment) (line_comment) (method_declaration (modifiers (marker_annotation name: (identifier))) type: (type_identifier) name: (identifier) parameters: (formal_parameters) body: (block (return_statement (parenthesized_expression (binary_expression left: (binary_expression left: (method_invocation object: (super) name: (identifier) arguments: (argument_list)) right: (string_literal (escape_sequence) (string_fragment))) right: (identifier)))))))))\n",
      "<Node type=package_declaration, start_point=(0, 0), end_point=(0, 33)>\n",
      "<Node type=scoped_identifier, start_point=(0, 8), end_point=(0, 32)>\n",
      "net.jsussman.inheritance\n",
      "\n",
      "(program (package_declaration (scoped_identifier scope: (scoped_identifier scope: (identifier) name: (identifier)) name: (identifier))) (import_declaration (scoped_identifier scope: (scoped_identifier scope: (scoped_identifier scope: (identifier) name: (identifier)) name: (identifier)) name: (identifier))) (import_declaration (scoped_identifier scope: (scoped_identifier scope: (identifier) name: (identifier)) name: (identifier))) (block_comment) (class_declaration (modifiers) name: (identifier) body: (class_body (block_comment) (method_declaration (modifiers (marker_annotation name: (identifier))) type: (void_type) name: (identifier) parameters: (formal_parameters) body: (block (expression_statement (method_invocation name: (identifier) arguments: (argument_list (true)))))))))\n",
      "<Node type=package_declaration, start_point=(0, 0), end_point=(0, 29)>\n",
      "<Node type=scoped_identifier, start_point=(0, 8), end_point=(0, 28)>\n",
      "net.jsussman.complex\n",
      "\n"
     ]
    }
   ],
   "source": [
    "query = JAVA_LANGUAGE.query(\"(package_declaration) @package_declaration\")\n",
    "\n",
    "for filename in source_files:\n",
    "  with open(filename, 'r') as f:\n",
    "    code = f.read()\n",
    "\n",
    "    parser = Parser()\n",
    "    parser.set_language(JAVA_LANGUAGE)\n",
    "    tree = parser.parse(bytes(code, 'utf8'))\n",
    "    print(tree.root_node.sexp())\n",
    "    captures = query.captures(tree.root_node)\n",
    "\n",
    "    for c in captures:\n",
    "      node = c[0]\n",
    "      print(node)\n",
    "      print(node.children[1])\n",
    "      print(code[node.children[1].start_byte : node.children[1].end_byte])\n",
    "    \n",
    "      # print(node[0].start_byte, node[0].end_byte)\n",
    "    # print(package_query.captures(tree.root_node, tree.root_node.start_point, tree.root_node.start_point, 0, tree.root_node.end_byte))\n",
    "    print()"
   ]
  },
  {
   "cell_type": "code",
   "execution_count": 4,
   "metadata": {},
   "outputs": [
    {
     "name": "stdout",
     "output_type": "stream",
     "text": [
      "FileInfo(path='/home/jonah/Projects/kyma-prototyping/examples/complex-numbers/src/main/java/net/jsussman/complexnumber/ComplexNumber.java', code='package net.jsussman.complexnumber;\\n\\nimport net.jsussman.inheritance.Bicycle;\\n\\n/**\\n * @see blah\\n */\\npublic class ComplexNumber {\\n  // Fields for the real and imaginary parts\\n  private double real;\\n  private double imag;\\n\\n  // Constructor\\n  public ComplexNumber(double real, double imag) {\\n    this.real = real;\\n    this.imag = imag;\\n  }\\n\\n  // Getter methods\\n  public double getReal() {\\n    // this.getClass();\\n    return real;\\n  }\\n\\n  public double getImag() {\\n    return imag;\\n  }\\n\\n  // Method to add two complex numbers\\n  public static ComplexNumber add(ComplexNumber a, ComplexNumber b) {\\n    return new ComplexNumber(a.real + b.real, a.imag + b.imag);\\n  }\\n\\n  // Method to subtract two complex numbers\\n  public static ComplexNumber sub(ComplexNumber a, ComplexNumber b) {\\n    return new ComplexNumber(a.real - b.real, a.imag - b.imag);\\n  }\\n\\n  // Method to multiply two complex numbers\\n  public static ComplexNumber mul(ComplexNumber a, ComplexNumber b) {\\n    double real = a.real * b.real - a.imag * b.imag;\\n    double imag = a.real * b.imag + a.imag * b.real;\\n    return new ComplexNumber(real, imag);\\n  }\\n\\n  // Method to divide two complex numbers\\n  public static ComplexNumber div(ComplexNumber a, ComplexNumber b) {\\n    double divisor = b.real * b.real + b.imag * b.imag;\\n    double real = (a.real * b.real + a.imag * b.imag) / divisor;\\n    double imag = (a.imag * b.real - a.real * b.imag) / divisor;\\n    return new ComplexNumber(real, imag);\\n  }\\n\\n  // Method to represent the complex number as a string\\n  @Override\\n  public String toString() {\\n    return \"\" + real + \" + \" + imag + \"i\";\\n  }\\n}\\n', language=<tree_sitter.Language object at 0x7fc0cc146510>, tree=<tree_sitter.Tree object at 0x7fc0d02779d0>, package_name='net.jsussman.complexnumber', imports=['net.jsussman.inheritance.Bicycle'])\n",
      "FileInfo(path='/home/jonah/Projects/kyma-prototyping/examples/complex-numbers/src/main/java/net/jsussman/complexnumber/ComplexNumber2.notjava', code='package net.jsussman.complexnumber;\\n\\npublic class ComplexNumber2 {\\n  // Fields for the real and imaginary parts\\n  private double real;\\n  private double imag;\\n\\n  // Constructor\\n  public ComplexNumber2(double real, double imag) {\\n    for (int i = 0; i < 10; i++) {\\n      System.out.println(\"Spurious difference!\");\\n    }\\n\\n    this.real = real;\\n    this.imag = imag;\\n  }\\n\\n  // Getter methods\\n  public double getReal() {\\n    // this.getClass();\\n    return real;\\n  }\\n\\n  public double getImag() {\\n    return imag;\\n  }\\n\\n  // Method to add two complex numbers\\n  public static ComplexNumber add(ComplexNumber a, ComplexNumber b) {\\n    return new ComplexNumber(a.real + b.real, a.imag + b.imag);\\n  }\\n\\n  // Method to subtract two complex numbers\\n  public static ComplexNumber sub(ComplexNumber a, ComplexNumber b) {\\n    return new ComplexNumber(a.real - b.real, a.imag - b.imag);\\n  }\\n\\n  // Method to multiply two complex numbers\\n  public static ComplexNumber mul(ComplexNumber a, ComplexNumber b) {\\n    double real = a.real * b.real - a.imag * b.imag;\\n    double imag = a.real * b.imag + a.imag * b.real;\\n    return new ComplexNumber(real, imag);\\n  }\\n\\n  // Method to divide two complex numbers\\n  public static ComplexNumber div(ComplexNumber a, ComplexNumber b) {\\n    double divisor = b.real * b.real + b.imag * b.imag;\\n    double real = (a.real * b.real + a.imag * b.imag) / divisor;\\n    double imag = (a.imag * b.real - a.real * b.imag) / divisor;\\n    return new ComplexNumber(real, imag);\\n  }\\n\\n  // Method to represent the complex number as a string\\n  @Override\\n  public String toString() {\\n    return \"\" + real + \" + \" + imag + \"i\";\\n  }\\n}\\n', language=<tree_sitter.Language object at 0x7fc0cc146510>, tree=<tree_sitter.Tree object at 0x7fc0d0277f50>, package_name='net.jsussman.complexnumber', imports=[])\n",
      "FileInfo(path='/home/jonah/Projects/kyma-prototyping/examples/complex-numbers/src/main/java/net/jsussman/dummyapp/App.java', code='package net.jsussman.dummyapp;\\n\\nimport net.jsussman.complexnumber.ComplexNumber;\\n\\n// import tester.one.two.three;\\n\\npublic class App {\\n  public static void main( String[] args ) {\\n    ComplexNumber a = new ComplexNumber(1, 3);\\n    double bubba = a.getReal();\\n  }\\n}\\n', language=<tree_sitter.Language object at 0x7fc0cc146510>, tree=<tree_sitter.Tree object at 0x7fc0d0277670>, package_name='net.jsussman.dummyapp', imports=['net.jsussman.complexnumber.ComplexNumber'])\n",
      "FileInfo(path='/home/jonah/Projects/kyma-prototyping/examples/complex-numbers/src/main/java/net/jsussman/inheritance/Bicycle.java', code='package net.jsussman.inheritance;\\n\\npublic class Bicycle {\\n  // the Bicycle class has two fields\\n  public int gear;\\n  public int speed;\\n\\n  // the Bicycle class has one constructor\\n  public Bicycle(int gear, int speed)\\n  {\\n    this.gear = gear;\\n    this.speed = speed;\\n  }\\n\\n  // the Bicycle class has three methods\\n  public void applyBrake(int decrement)\\n  {\\n    speed -= decrement;\\n  }\\n\\n  public void speedUp(int increment)\\n  {\\n    speed += increment;\\n  }\\n\\n  public void callMethod() {\\n    speedUp(1);\\n  }\\n\\n  // toString() method to print info of Bicycle\\n  public String toString()\\n  {\\n    return (\"No of gears are \" + gear + \"\\\\n\"\\n        + \"speed of bicycle is \" + speed);\\n  }\\n}\\n', language=<tree_sitter.Language object at 0x7fc0cc146510>, tree=<tree_sitter.Tree object at 0x7fc0d02770b0>, package_name='net.jsussman.inheritance', imports=[])\n",
      "FileInfo(path='/home/jonah/Projects/kyma-prototyping/examples/complex-numbers/src/main/java/net/jsussman/inheritance/MountainBike.java', code='package net.jsussman.inheritance;\\n\\nclass MountainBike extends Bicycle {\\n \\n  // the MountainBike subclass adds one more field\\n  public int seatHeight;\\n \\n  // the MountainBike subclass has one constructor\\n  public MountainBike(int gear, int speed,\\n            int startHeight)\\n  {\\n    // invoking base-class(Bicycle) constructor\\n    super(gear, speed);\\n    seatHeight = startHeight;\\n  }\\n \\n  // the MountainBike subclass adds one more method\\n  public void setHeight(int newValue)\\n  {\\n    seatHeight = newValue;\\n  }\\n\\n  public void applyBrake(int decrement)\\n  {\\n    speed -= decrement;\\n  }\\n \\n  // overriding toString() method\\n  // of Bicycle to print more info\\n  @Override public String toString()\\n  {\\n    return (super.toString() + \"\\\\nseat height is \"\\n        + seatHeight);\\n  }\\n}', language=<tree_sitter.Language object at 0x7fc0cc146510>, tree=<tree_sitter.Tree object at 0x7fc0d0277770>, package_name='net.jsussman.inheritance', imports=[])\n",
      "FileInfo(path='/home/jonah/Projects/kyma-prototyping/examples/complex-numbers/src/test/java/net/jsussman/complex/AppTest.java', code='package net.jsussman.complex;\\n\\nimport static org.junit.Assert.assertTrue;\\n\\nimport org.junit.Test;\\n\\n/**\\n * Unit test for simple App.\\n */\\npublic class AppTest \\n{\\n    /**\\n     * Rigorous Test :-)\\n     */\\n    @Test\\n    public void shouldAnswerWithTrue()\\n    {\\n        assertTrue( true );\\n    }\\n}\\n', language=<tree_sitter.Language object at 0x7fc0cc146510>, tree=<tree_sitter.Tree object at 0x7fc0d0277490>, package_name='net.jsussman.complex', imports=['static', 'org.junit.Test'])\n"
     ]
    }
   ],
   "source": [
    "file_info_list = []\n",
    "\n",
    "for path in source_files:\n",
    "  file_info_list.append(FileInfo.from_path(JAVA_LANGUAGE, path))\n",
    "\n",
    "for fi in file_info_list:\n",
    "  print(fi)"
   ]
  },
  {
   "cell_type": "code",
   "execution_count": 6,
   "metadata": {},
   "outputs": [
    {
     "name": "stdout",
     "output_type": "stream",
     "text": [
      "['net.jsussman.inheritance.Bicycle']\n"
     ]
    }
   ],
   "source": [
    "a = FileInfo.from_path(JAVA_LANGUAGE, '/home/jonah/Projects/kyma-prototyping/examples/complex-numbers/src/main/java/net/jsussman/complexnumber/ComplexNumber.java')\n",
    "# b = FileInfo.from_path(JAVA_LANGUAGE, '/home/jonah/Projects/kyma-prototyping/examples/complex-numbers/src/main/java/net/jsussman/complexnumber/ComplexNumber2.java')\n",
    "\n",
    "# results = calculate_tree_difference(a.tree.root_node, b.tree.root_node)\n",
    "# for result in results:\n",
    "  # print(result[0].sexp())\n",
    "  # print(result[1].sexp())\n",
    "  # print()\n",
    "\n",
    "print(a.imports)"
   ]
  }
 ],
 "metadata": {
  "kernelspec": {
   "display_name": ".venv",
   "language": "python",
   "name": "python3"
  },
  "language_info": {
   "codemirror_mode": {
    "name": "ipython",
    "version": 3
   },
   "file_extension": ".py",
   "mimetype": "text/x-python",
   "name": "python",
   "nbconvert_exporter": "python",
   "pygments_lexer": "ipython3",
   "version": "3.10.13"
  }
 },
 "nbformat": 4,
 "nbformat_minor": 2
}
